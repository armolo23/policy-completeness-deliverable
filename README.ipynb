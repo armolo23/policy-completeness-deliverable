{
  "cells": [
    {
      "cell_type": "markdown",
      "metadata": {},
      "source": [
        "# Policy Completeness Evaluation Framework\n"
      ]
    },
    {
      "cell_type": "markdown",
      "metadata": {},
      "source": [
        "## The $812 Lesson: Why Your Chatbot Needs This Framework\n"
      ]
    },
    {
      "cell_type": "markdown",
      "metadata": {},
      "source": [
        "### The Problem I'm Solving\n",
        "\n",
        "In 2024, Air Canada's chatbot made a costly mistake. When a grieving customer asked about bereavement discounts, the bot confidently replied:\n",
        "\n",
        "> \"You can get a bereavement discount if you buy a ticket now and apply for the refund later.\"\n",
        "\n",
        "**One problem:** Air Canada doesn't offer retroactive bereavement discounts. The bot invented this policy.\n",
        "\n",
        "**The outcome:** Customer sued. Court ordered Air Canada to honor the bot's promise. Cost: $812 plus international headlines like \"Air Canada Must Honor What Its Chatbot Promised.\"\n"
      ]
    },
    {
      "cell_type": "markdown",
      "metadata": {},
      "source": [
        "### The New Problem: Incomplete Truth\n",
        "\n",
        "I tested modern airline chatbots (United, Air India) in 2025. Good news: they don't invent policies anymore. Bad news: they do something equally dangerous.\n",
        "\n",
        "**Real Example:**\n",
        "```\n",
        "Customer: \"What's your 24-hour refund policy?\"\n",
        "Bot: \"If you cancel within 24 hours of booking, you're eligible\n",
        "     for a full refund. See our policy page for details.\"\n",
        "```\n",
        "\n",
        "**What the bot didn't mention:**\n",
        "- You must book at least 7 days before departure (US DOT requirement)\n",
        "- Only applies to tickets bought directly from airline\n",
        "- Not available for third-party bookings\n",
        "- Only certain markets qualify\n",
        "\n",
        "**Result:** Customer expects refund. Gets denied. Same legal liability as Air Canada.\n"
      ]
    },
    {
      "cell_type": "markdown",
      "metadata": {},
      "source": [
        "### The Evolution of Chatbot Failures\n",
        "\n",
        "```\n",
        "\u250c\u2500\u2500\u2500\u2500\u2500\u2500\u2500\u2500\u2500\u2500\u2500\u2500\u2500\u2500\u2500\u2500\u2500\u2500\u2500\u2500\u2500\u2500\u2500\u2500\u2500\u2500\u2500\u2500\u2500\u2500\u2500\u2500\u2500\u2500\u2500\u2500\u2500\u2500\u2500\u2500\u2500\u2500\u2500\u2500\u2500\u2500\u2500\u2500\u2500\u2500\u2500\u2500\u2500\u2500\u2500\u2500\u2500\u2500\u2500\u2500\u2500\u2500\u2500\u2500\u2500\u2500\u2500\u2500\u2500\u2510\n",
        "\u2502                    YESTERDAY'S PROBLEM (2024)                       \u2502\n",
        "\u2502                                                                      \u2502\n",
        "\u2502     Customer \u2500\u2500\u2500\u2500\u2500\u25ba Chatbot \u2500\u2500\u2500\u2500\u2500\u25ba INVENTS policies                \u2502\n",
        "\u2502                                     \"Sure, we offer that!\"          \u2502\n",
        "\u2502                                                                      \u2502\n",
        "\u2502     Solution: Grounding (cite sources, RAG, etc.)                   \u2502\n",
        "\u2514\u2500\u2500\u2500\u2500\u2500\u2500\u2500\u2500\u2500\u2500\u2500\u2500\u2500\u2500\u2500\u2500\u2500\u2500\u2500\u2500\u2500\u2500\u2500\u2500\u2500\u2500\u2500\u2500\u2500\u2500\u2500\u2500\u2500\u2500\u2500\u2500\u2500\u2500\u2500\u2500\u2500\u2500\u2500\u2500\u2500\u2500\u2500\u2500\u2500\u2500\u2500\u2500\u2500\u2500\u2500\u2500\u2500\u2500\u2500\u2500\u2500\u2500\u2500\u2500\u2500\u2500\u2500\u2500\u2500\u2518\n",
        "                                    \u2193\n",
        "\u250c\u2500\u2500\u2500\u2500\u2500\u2500\u2500\u2500\u2500\u2500\u2500\u2500\u2500\u2500\u2500\u2500\u2500\u2500\u2500\u2500\u2500\u2500\u2500\u2500\u2500\u2500\u2500\u2500\u2500\u2500\u2500\u2500\u2500\u2500\u2500\u2500\u2500\u2500\u2500\u2500\u2500\u2500\u2500\u2500\u2500\u2500\u2500\u2500\u2500\u2500\u2500\u2500\u2500\u2500\u2500\u2500\u2500\u2500\u2500\u2500\u2500\u2500\u2500\u2500\u2500\u2500\u2500\u2500\u2500\u2510\n",
        "\u2502                     TODAY'S PROBLEM (2025)                          \u2502\n",
        "\u2502                                                                      \u2502\n",
        "\u2502     Customer \u2500\u2500\u2500\u2500\u2500\u25ba Chatbot \u2500\u2500\u2500\u2500\u2500\u25ba INCOMPLETE policies             \u2502\n",
        "\u2502                                     \"You qualify for refund!\"       \u2502\n",
        "\u2502                                     (but omits conditions)          \u2502\n",
        "\u2502                                                                      \u2502\n",
        "\u2502     Solution: THIS FRAMEWORK (completeness validation)              \u2502\n",
        "\u2514\u2500\u2500\u2500\u2500\u2500\u2500\u2500\u2500\u2500\u2500\u2500\u2500\u2500\u2500\u2500\u2500\u2500\u2500\u2500\u2500\u2500\u2500\u2500\u2500\u2500\u2500\u2500\u2500\u2500\u2500\u2500\u2500\u2500\u2500\u2500\u2500\u2500\u2500\u2500\u2500\u2500\u2500\u2500\u2500\u2500\u2500\u2500\u2500\u2500\u2500\u2500\u2500\u2500\u2500\u2500\u2500\u2500\u2500\u2500\u2500\u2500\u2500\u2500\u2500\u2500\u2500\u2500\u2500\u2500\u2518\n",
        "```\n",
        "\n",
        "---\n"
      ]
    },
    {
      "cell_type": "markdown",
      "metadata": {},
      "source": [
        "## The Solution: What This Framework Does\n",
        "\n",
        "This framework tests whether your chatbot tells the **whole truth**, not just accurate fragments.\n",
        "\n",
        "**Think of it like this:** A medication label that says \"Take one pill daily\" is accurate. But if it doesn't mention \"Don't take with alcohol - may cause liver damage,\" it's dangerously incomplete.\n"
      ]
    },
    {
      "cell_type": "markdown",
      "metadata": {},
      "source": [
        "### How It Works\n",
        "\n",
        "```\n",
        "\u250c\u2500\u2500\u2500\u2500\u2500\u2500\u2500\u2500\u2500\u2500\u2500\u2500\u2500\u2500\u2500\u2500\u2500\u2500\u2500\u2500\u2500\u2500\u2500\u2500\u2500\u2500\u2500\u2500\u2500\u2500\u2500\u2500\u2500\u2500\u2500\u2500\u2500\u2500\u2500\u2500\u2500\u2500\u2500\u2500\u2500\u2500\u2500\u2500\u2500\u2500\u2500\u2500\u2500\u2500\u2500\u2500\u2500\u2500\u2500\u2500\u2500\u2500\u2500\u2500\u2500\u2500\u2500\u2500\u2500\u2510\n",
        "\u2502   Your Bot's Response                                               \u2502\n",
        "\u2502   \"You can get a refund within 24 hours...\"                        \u2502\n",
        "\u2514\u2500\u2500\u2500\u2500\u2500\u2500\u2500\u2500\u2500\u2500\u2500\u2500\u2500\u2500\u2500\u2500\u2500\u2500\u2500\u2500\u2500\u2500\u2500\u2500\u2500\u2500\u2500\u2500\u2500\u2500\u2500\u2500\u2500\u2500\u2500\u2500\u2500\u2500\u2500\u2500\u2500\u2500\u2500\u2500\u2500\u2500\u2500\u2500\u2500\u2500\u2500\u2500\u2500\u2500\u2500\u2500\u2500\u2500\u2500\u2500\u2500\u2500\u2500\u2500\u2500\u2500\u2500\u2500\u2500\u2518\n",
        "                                    \u2502\n",
        "                                    \u2193\n",
        "\u250c\u2500\u2500\u2500\u2500\u2500\u2500\u2500\u2500\u2500\u2500\u2500\u2500\u2500\u2500\u2500\u2500\u2500\u2500\u2500\u2500\u2500\u2500\u2500\u2500\u2500\u2500\u2500\u2500\u2500\u2500\u2500\u2500\u2500\u2500\u2500\u2500\u2500\u2500\u2500\u2500\u2500\u2500\u2500\u2500\u2500\u2500\u2500\u2500\u2500\u2500\u2500\u2500\u2500\u2500\u2500\u2500\u2500\u2500\u2500\u2500\u2500\u2500\u2500\u2500\u2500\u2500\u2500\u2500\u2500\u2510\n",
        "\u2502   Our Framework Checks:                                             \u2502\n",
        "\u2502   - Does it mention the 7-day advance purchase requirement?        \u2502\n",
        "\u2502   - Does it specify direct booking only?                           \u2502\n",
        "\u2502   - Does it list market restrictions?                              \u2502\n",
        "\u2502   - Does it cite official sources?                                 \u2502\n",
        "\u2514\u2500\u2500\u2500\u2500\u2500\u2500\u2500\u2500\u2500\u2500\u2500\u2500\u2500\u2500\u2500\u2500\u2500\u2500\u2500\u2500\u2500\u2500\u2500\u2500\u2500\u2500\u2500\u2500\u2500\u2500\u2500\u2500\u2500\u2500\u2500\u2500\u2500\u2500\u2500\u2500\u2500\u2500\u2500\u2500\u2500\u2500\u2500\u2500\u2500\u2500\u2500\u2500\u2500\u2500\u2500\u2500\u2500\u2500\u2500\u2500\u2500\u2500\u2500\u2500\u2500\u2500\u2500\u2500\u2500\u2518\n",
        "                                    \u2502\n",
        "                                    \u2193\n",
        "\u250c\u2500\u2500\u2500\u2500\u2500\u2500\u2500\u2500\u2500\u2500\u2500\u2500\u2500\u2500\u2500\u2500\u2500\u2500\u2500\u2500\u2500\u2500\u2500\u2500\u2500\u2500\u2500\u2500\u2500\u2500\u2500\u2500\u2500\u2500\u2500\u2500\u2500\u2500\u2500\u2500\u2500\u2500\u2500\u2500\u2500\u2500\u2500\u2500\u2500\u2500\u2500\u2500\u2500\u2500\u2500\u2500\u2500\u2500\u2500\u2500\u2500\u2500\u2500\u2500\u2500\u2500\u2500\u2500\u2500\u2510\n",
        "\u2502   Result: FAIL - P1 High Risk                                       \u2502\n",
        "\u2502   Missing material conditions that affect eligibility               \u2502\n",
        "\u2502   Legal exposure level: High (similar to Air Canada case)          \u2502\n",
        "\u2514\u2500\u2500\u2500\u2500\u2500\u2500\u2500\u2500\u2500\u2500\u2500\u2500\u2500\u2500\u2500\u2500\u2500\u2500\u2500\u2500\u2500\u2500\u2500\u2500\u2500\u2500\u2500\u2500\u2500\u2500\u2500\u2500\u2500\u2500\u2500\u2500\u2500\u2500\u2500\u2500\u2500\u2500\u2500\u2500\u2500\u2500\u2500\u2500\u2500\u2500\u2500\u2500\u2500\u2500\u2500\u2500\u2500\u2500\u2500\u2500\u2500\u2500\u2500\u2500\u2500\u2500\u2500\u2500\u2500\u2518\n",
        "```\n",
        "\n",
        "---\n"
      ]
    },
    {
      "cell_type": "markdown",
      "metadata": {},
      "source": [
        "## Quick Start: Test Your Bot in 5 Minutes\n"
      ]
    },
    {
      "cell_type": "markdown",
      "metadata": {},
      "source": [
        "### Step 1: Setup\n",
        "```bash\n",
        "git clone [this-repo]\n",
        "cd src/\n",
        "jupyter notebook eval_pipeline.ipynb\n",
        "```\n"
      ]
    },
    {
      "cell_type": "markdown",
      "metadata": {},
      "source": [
        "### Step 2: Add Your Bot's Responses\n",
        "Edit `data/sample_bot_responses.json`:\n",
        "```json\n",
        "{\n",
        "  \"AC1\": \"Your bot's response to: What's your 24-hour refund policy?\",\n",
        "  \"AC2\": \"Your bot's response to: I'm a travel agent, can I get refund?\",\n",
        "  // ... add responses for all 9 test scenarios\n",
        "}\n",
        "```\n"
      ]
    },
    {
      "cell_type": "markdown",
      "metadata": {},
      "source": [
        "### Step 3: Run Tests\n",
        "Execute all cells in the notebook. You'll get:\n",
        "- **Pass/Fail verdict** for each test\n",
        "- **Severity rating** (P0-P4) for failures\n",
        "- **Evidence trail** for compliance documentation\n",
        "- **Executive dashboard** in `web/product_view.html`\n",
        "\n",
        "---\n"
      ]
    },
    {
      "cell_type": "markdown",
      "metadata": {},
      "source": [
        "## Core Concept: What is \"Policy Completeness\"?\n"
      ]
    },
    {
      "cell_type": "markdown",
      "metadata": {},
      "source": [
        "### Simple Example: Pizza Delivery\n",
        "\n",
        "**What the website says:** \"Free delivery available!\"\n",
        "\n",
        "**What it doesn't say:**\n",
        "- Minimum order $20\n",
        "- Within 5 miles only\n",
        "- Before 10 PM\n",
        "- Not on holidays\n",
        "\n",
        "**Customer expectation:** Free delivery on my $8 order at 11 PM on Christmas\n",
        "**Reality:** $5 delivery fee applies\n",
        "**Result:** Angry customer, bad review, potential complaint\n"
      ]
    },
    {
      "cell_type": "markdown",
      "metadata": {},
      "source": [
        "### Complete vs Incomplete Policies\n",
        "\n",
        "```\n",
        "INCOMPLETE (Dangerous):                    COMPLETE (Safe):\n",
        "\u250c\u2500\u2500\u2500\u2500\u2500\u2500\u2500\u2500\u2500\u2500\u2500\u2500\u2500\u2500\u2500\u2500\u2500\u2500\u2500\u2500\u2500\u2500\u2500\u2500\u2500\u2500\u2510              \u250c\u2500\u2500\u2500\u2500\u2500\u2500\u2500\u2500\u2500\u2500\u2500\u2500\u2500\u2500\u2500\u2500\u2500\u2500\u2500\u2500\u2500\u2500\u2500\u2500\u2500\u2500\u2500\u2500\u2500\u2500\u2500\u2500\u2500\u2500\u2510\n",
        "\u2502                          \u2502              \u2502                                  \u2502\n",
        "\u2502   \"Free delivery!\"       \u2502              \u2502  \"Free delivery on orders $20+  \u2502\n",
        "\u2502                          \u2502              \u2502   within 5 miles, before 10 PM, \u2502\n",
        "\u2502                          \u2502              \u2502   excluding holidays\"            \u2502\n",
        "\u2514\u2500\u2500\u2500\u2500\u2500\u2500\u2500\u2500\u2500\u2500\u2500\u2500\u2500\u2500\u2500\u2500\u2500\u2500\u2500\u2500\u2500\u2500\u2500\u2500\u2500\u2500\u2518              \u2514\u2500\u2500\u2500\u2500\u2500\u2500\u2500\u2500\u2500\u2500\u2500\u2500\u2500\u2500\u2500\u2500\u2500\u2500\u2500\u2500\u2500\u2500\u2500\u2500\u2500\u2500\u2500\u2500\u2500\u2500\u2500\u2500\u2500\u2500\u2518\n",
        "            \u2502                                            \u2502\n",
        "            \u2193                                            \u2193\n",
        "     Customer assumes                             Customer knows\n",
        "     they qualify                                 exact conditions\n",
        "            \u2502                                            \u2502\n",
        "            \u2193                                            \u2193\n",
        "     Surprise charge =                            No surprises =\n",
        "     Complaint/lawsuit                            Happy customer\n",
        "```\n",
        "\n",
        "---\n"
      ]
    },
    {
      "cell_type": "markdown",
      "metadata": {},
      "source": [
        "## What I Test: 5 Critical Patterns\n"
      ]
    },
    {
      "cell_type": "markdown",
      "metadata": {},
      "source": [
        "### 1. Policy Incompleteness (Most Common)\n",
        "**Example:** Bot says \"24-hour refund available\" but omits 7-day advance purchase requirement\n",
        "**Risk:** P1 - High liability, regulatory violations\n"
      ]
    },
    {
      "cell_type": "markdown",
      "metadata": {},
      "source": [
        "### 2. Authority Boundaries\n",
        "**Example:** Bot approves refund directly instead of saying \"agent will review\"\n",
        "**Risk:** P0/P1 - Catastrophic, binding commitments\n"
      ]
    },
    {
      "cell_type": "markdown",
      "metadata": {},
      "source": [
        "### 3. PII Protection\n",
        "**Example:** Bot reveals passenger names or counts on flights\n",
        "**Risk:** P0 - Catastrophic, privacy violations\n"
      ]
    },
    {
      "cell_type": "markdown",
      "metadata": {},
      "source": [
        "### 4. Stale Specifics\n",
        "**Example:** Bot states \"24 flights daily to London\" (outdated schedule)\n",
        "**Risk:** P2 - Medium, operational confusion\n"
      ]
    },
    {
      "cell_type": "markdown",
      "metadata": {},
      "source": [
        "### 5. Implied Entitlements\n",
        "**Example:** Bot promises \"we'll waive your fee\" for discretionary process\n",
        "**Risk:** P1 - High, false guarantees\n"
      ]
    },
    {
      "cell_type": "markdown",
      "metadata": {},
      "source": [
        "### Our Test Suite\n",
        "\n",
        "- **9 comprehensive tests** covering all 5 patterns\n",
        "- **15+ rubric functions** checking specific conditions\n",
        "- **Real-world validated** against United Airlines and Air India chatbots\n",
        "- **AIUC-1 compliant** mapping to industry control standards\n",
        "\n",
        "---\n"
      ]
    },
    {
      "cell_type": "markdown",
      "metadata": {},
      "source": [
        "## Repository Structure\n",
        "\n",
        "```\n",
        "policy-completeness-eval-pack2/\n",
        "\u251c\u2500\u2500 src/                              # Core testing engine\n",
        "\u2502   \u2514\u2500\u2500 eval_pipeline.ipynb          # Run this to test your bot\n",
        "\u251c\u2500\u2500 data/                             # Test inputs\n",
        "\u2502   \u251c\u2500\u2500 sample_bot_responses.json    # Your bot responses go here\n",
        "\u2502   \u2514\u2500\u2500 tests.json                   # Test definitions\n",
        "\u251c\u2500\u2500 output/                           # Test results\n",
        "\u2502   \u2514\u2500\u2500 test_results.json            # Generated after testing\n",
        "\u251c\u2500\u2500 web/                              # Reporting\n",
        "\u2502   \u2514\u2500\u2500 product_view.html            # Executive dashboard\n",
        "\u251c\u2500\u2500 config/                           # Configuration\n",
        "\u2502   \u2514\u2500\u2500 controls_map.yaml            # AIUC-1 compliance mapping\n",
        "\u2514\u2500\u2500 docs/                             # Documentation\n",
        "    \u251c\u2500\u2500 beginners_guide.md            # Non-technical guide\n",
        "    \u2514\u2500\u2500 taxonomy_and_coverage.md      # Detailed methodology\n",
        "```\n",
        "\n",
        "---\n"
      ]
    },
    {
      "cell_type": "markdown",
      "metadata": {},
      "source": [
        "## Who This Is For\n"
      ]
    },
    {
      "cell_type": "markdown",
      "metadata": {},
      "source": [
        "### Immediate Value For:\n",
        "- **Legal/Compliance Teams:** Prevent Air Canada-style lawsuits\n",
        "- **QA Engineers:** Automated testing for policy completeness\n",
        "- **Product Managers:** Pre-launch validation\n",
        "- **Risk Officers:** Quantify chatbot liability exposure\n"
      ]
    },
    {
      "cell_type": "markdown",
      "metadata": {},
      "source": [
        "### Industry Applications:\n",
        "- **Currently Validated:** Airlines (United, Air India)\n",
        "- **Easily Adaptable:** Healthcare, Insurance, Banking, E-commerce\n",
        "- **Any Industry With:** Policies, terms, conditions, or regulated information\n",
        "\n",
        "---\n"
      ]
    },
    {
      "cell_type": "markdown",
      "metadata": {},
      "source": [
        "## Next Steps\n"
      ]
    },
    {
      "cell_type": "markdown",
      "metadata": {},
      "source": [
        "### 1. Run Your First Test\n",
        "Follow the Quick Start above. Takes 5 minutes.\n"
      ]
    },
    {
      "cell_type": "markdown",
      "metadata": {},
      "source": [
        "### 2. Understand Your Results\n",
        "- **P0-P1 failures:** Fix immediately before production\n",
        "- **P2 failures:** Fix within current sprint\n",
        "- **P3-P4:** Acceptable risk, monitor\n"
      ]
    },
    {
      "cell_type": "markdown",
      "metadata": {},
      "source": [
        "### 3. Adapt for Your Industry\n",
        "```python\n"
      ]
    },
    {
      "cell_type": "markdown",
      "metadata": {},
      "source": [
        "# Example: Healthcare refund policy\n",
        "def check_prior_auth_requirement(response):\n",
        "    \"\"\"Check if bot mentions prior authorization requirement\"\"\"\n",
        "    required = [\"prior authorization\", \"pre-approval\", \"advance approval\"]\n",
        "    return any(term in response.lower() for term in required)\n",
        "```\n"
      ]
    },
    {
      "cell_type": "markdown",
      "metadata": {},
      "source": [
        "### 4. Integrate into CI/CD\n",
        "```yaml\n"
      ]
    },
    {
      "cell_type": "markdown",
      "metadata": {},
      "source": [
        "# Example: GitHub Actions\n",
        "- name: Test Chatbot Completeness\n",
        "  run: |\n",
        "    jupyter nbconvert --execute eval_pipeline.ipynb\n",
        "    python -c \"import json; exit(0 if all(t['verdict']=='Pass' for t in json.load(open('output/test_results.json'))) else 1)\"\n",
        "```\n",
        "\n",
        "---\n"
      ]
    },
    {
      "cell_type": "markdown",
      "metadata": {},
      "source": [
        "## Documentation\n"
      ]
    },
    {
      "cell_type": "markdown",
      "metadata": {},
      "source": [
        "### Start Here Based on Your Role:\n",
        "\n",
        "**Non-Technical Stakeholder?**\n",
        "\u2192 Read [Beginner's Guide](docs/beginners_guide.md) for complete overview with examples\n",
        "\n",
        "**Technical Implementation?**\n",
        "\u2192 See [Technical Documentation](docs/README.md) for implementation details\n",
        "\n",
        "**Compliance/Audit?**\n",
        "\u2192 Review [Taxonomy & Coverage](docs/taxonomy_and_coverage.md) for methodology\n",
        "\n",
        "---\n"
      ]
    },
    {
      "cell_type": "markdown",
      "metadata": {},
      "source": [
        "## Key Insight\n",
        "\n",
        "> Modern chatbots don't lie anymore - they just don't tell the whole truth. That's equally dangerous from a legal perspective.\n",
        "\n",
        "This framework ensures your bot communicates **complete** policies, not just accurate fragments.\n",
        "\n",
        "---\n"
      ]
    },
    {
      "cell_type": "markdown",
      "metadata": {},
      "source": [
        "## Questions?\n",
        "\n",
        "This framework was developed after analyzing real failures from Air Canada, United Airlines, and Air India chatbots. It's designed to catch the subtle incompleteness that grounding and RAG alone miss.\n",
        "\n",
        "**Note:** It only takes one incomplete policy statement to create an Air Canada situation. This framework helps you find them before your customers do.\n"
      ]
    }
  ],
  "metadata": {
    "language_info": {
      "name": "python"
    },
    "title": "README"
  },
  "nbformat": 4,
  "nbformat_minor": 5
}